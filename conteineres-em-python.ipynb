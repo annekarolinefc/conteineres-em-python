{
 "cells": [
  {
   "cell_type": "markdown",
   "metadata": {},
   "source": [
    "## Contêineres em Python"
   ]
  },
  {
   "cell_type": "markdown",
   "metadata": {},
   "source": [
    "### Listas"
   ]
  },
  {
   "cell_type": "markdown",
   "metadata": {},
   "source": [
    "*    Sequências ordenadas, onde cada valor é identificado por um índice.\n",
    "*    São mutáveis.\n",
    "*    Organiza um conjunto de dados linearmente."
   ]
  },
  {
   "cell_type": "code",
   "execution_count": 13,
   "metadata": {},
   "outputs": [
    {
     "name": "stdout",
     "output_type": "stream",
     "text": [
      "Obtendo tamanho da lista:  0\n",
      "Obtendo tamanho da lista_homogenea:  3 \n",
      "\n",
      "Adicionando elemento na lista:  ['elemento adicionado'] \n",
      "\n",
      "Lista após remover elemento:  [] \n",
      "\n",
      "Obtendo elemento do indice 0 e indice 1 com slicing(fatiamento):  ['ola', 5.6] \n",
      "\n",
      "Iteração da Lista Heterogenea:\n",
      "ola\n",
      "5.6\n",
      "1\n",
      "1\n",
      "True\n",
      "[]\n",
      "\n",
      "\n",
      "Indexação - Obtendo elemento da posição 2:  1\n",
      "Indexação - Obtendo ultimo elemento:  []\n",
      "Indexação - Obtendo elementos espaçados de 2 em 2:  ['ola', '1', True] \n",
      "\n",
      "Adicionando um objeto lista em outra lista:  [1, 2, 3] \n",
      "\n",
      "List Comprehension: \n"
     ]
    },
    {
     "data": {
      "text/plain": [
       "[1, 4, 9]"
      ]
     },
     "execution_count": 13,
     "metadata": {},
     "output_type": "execute_result"
    }
   ],
   "source": [
    "lista = [] \n",
    "lista_homogenea = [1, 2, 3]\n",
    "lista_heterogenea = ['ola', 5.6 ,'1', 1, True, []]\n",
    "\n",
    "print('Obtendo tamanho da lista: ', len(lista))\n",
    "print('Obtendo tamanho da lista_homogenea: ', len(lista_homogenea), '\\n')\n",
    "\n",
    "lista.append('elemento adicionado')\n",
    "print('Adicionando elemento na lista: ', lista, '\\n')\n",
    "\n",
    "lista.remove(lista[0])\n",
    "print('Lista após remover elemento: ', lista, '\\n')\n",
    "\n",
    "slicing = lista_heterogenea[:2]\n",
    "print('Obtendo elemento do indice 0 e indice 1 com slicing(fatiamento): ', slicing , '\\n')\n",
    "\n",
    "print('Iteração da Lista Heterogenea:')\n",
    "for elemento in lista_heterogenea:\n",
    "    print(elemento)\n",
    "print('\\n')\n",
    "\n",
    "print('Indexação - Obtendo elemento da posição 2: ', lista_heterogenea[2])\n",
    "print('Indexação - Obtendo ultimo elemento: ', lista_heterogenea[-1])\n",
    "print('Indexação - Obtendo elementos espaçados de 2 em 2: ', lista_heterogenea[::2], '\\n')\n",
    "\n",
    "lista.extend(lista_homogenea)\n",
    "print('Adicionando um objeto lista em outra lista: ', lista, '\\n')\n",
    "\n",
    "print('List Comprehension: ')\n",
    "[x**2 for x in lista_homogenea]"
   ]
  },
  {
   "cell_type": "markdown",
   "metadata": {},
   "source": [
    "### Tuplas"
   ]
  },
  {
   "cell_type": "markdown",
   "metadata": {},
   "source": [
    "*   Imutável.\n",
    "*   Sequência de elementos de qualquer tipo."
   ]
  },
  {
   "cell_type": "code",
   "execution_count": 15,
   "metadata": {},
   "outputs": [
    {
     "name": "stdout",
     "output_type": "stream",
     "text": [
      "Transformando lista para tupla:  ('Primeiro', 'Segundo', 'Terceiro') \n",
      "\n",
      "Lista de tuplas usando zip:  [(1, 4), (2, 5), (3, 6)] \n",
      "\n",
      "Indices e valores com enumerate:\n",
      "0 Primeiro\n",
      "1 Segundo\n",
      "2 Terceiro\n",
      "\n",
      "\n",
      "Observação:\n",
      "<class 'str'>\n",
      "<class 'tuple'>\n"
     ]
    }
   ],
   "source": [
    "tupla1 = (1, 2, 3)\n",
    "tupla2 = (4, 5, 6)\n",
    "tupla3 = (True, 'oi', 6.9)\n",
    "\n",
    "colocacao = ['Primeiro', 'Segundo', 'Terceiro']\n",
    "colocacao_tupla = tuple(colocacao)\n",
    "print(\"Transformando lista para tupla: \", colocacao_tupla, '\\n')\n",
    "\n",
    "exZip = list(zip(tupla1, tupla2))\n",
    "print(\"Lista de tuplas usando zip: \", exZip, '\\n')\n",
    "\n",
    "print('Indices e valores com enumerate:')\n",
    "for i, colocacao in enumerate(colocacao):\n",
    "    print (i, colocacao)\n",
    "print('\\n')\n",
    "\n",
    "print('Observação:')\n",
    "ex01 = ('Exemplo de String')\n",
    "ex02 = ('Exemplo de String',)\n",
    "\n",
    "print(type(ex01))\n",
    "print(type(ex02))\n"
   ]
  },
  {
   "cell_type": "markdown",
   "metadata": {},
   "source": [
    "### Conjuntos"
   ]
  },
  {
   "cell_type": "markdown",
   "metadata": {},
   "source": [
    "*   Implementam operadores de Teoria dos conjuntos\n",
    "*   Coleção de objetos únicos"
   ]
  },
  {
   "cell_type": "code",
   "execution_count": 12,
   "metadata": {},
   "outputs": [
    {
     "name": "stdout",
     "output_type": "stream",
     "text": [
      "Tupla 01:  {1, 2}\n",
      "Tupla 02:  {2, 3, 4, 5} \n",
      "\n",
      "Interseção:  {2}\n",
      "Diferença:  {1}\n",
      "União:  {1, 2, 3, 4, 5} \n",
      "\n"
     ]
    }
   ],
   "source": [
    "lista1=[1, 1, 1, 2]\n",
    "lista2=[2, 3, 4, 5, 5, 5, 5, 5]\n",
    "\n",
    "tupla1 = set(lista1)\n",
    "tupla2 = set(lista2)\n",
    "print('Tupla 01: ', tupla1)\n",
    "print('Tupla 02: ', tupla2, '\\n')\n",
    "\n",
    "print('Interseção: ', tupla1.intersection(tupla2))\n",
    "print('Diferença: ', tupla1.difference(tupla2))\n",
    "print('União: ', tupla1.union(tupla2), '\\n')"
   ]
  },
  {
   "cell_type": "markdown",
   "metadata": {},
   "source": [
    "### Dicionários"
   ]
  },
  {
   "cell_type": "markdown",
   "metadata": {},
   "source": [
    "*   Utilizam chaves no lugar de índices.\n",
    "*   Estrutura de dados indexadas indiretamente."
   ]
  },
  {
   "cell_type": "code",
   "execution_count": 15,
   "metadata": {},
   "outputs": [
    {
     "name": "stdout",
     "output_type": "stream",
     "text": [
      "Idade do Pedro: 21\n",
      "João é alunos? False \n",
      "\n",
      "Iteração: \n",
      "Chave:  Pedro \tvalor:  21\n",
      "Chave:  Maria \tvalor:  19\n",
      "Chave:  Carina \tvalor:  66\n",
      "\n",
      " Removendo Carina da turma: \n",
      "Chave:  Pedro \tvalor:  21\n",
      "Chave:  Maria \tvalor:  19\n"
     ]
    }
   ],
   "source": [
    "alunos = {'Pedro': 21, 'Maria': 19, 'Carina':66}\n",
    "\n",
    "print('Idade do Pedro:', alunos['Pedro'])\n",
    "print('João é alunos?', 'Joao' in alunos, '\\n')\n",
    "\n",
    "print('Iteração: ')\n",
    "for chave, valor in alunos.items():\n",
    "    print('Chave: ', chave, '\\tvalor: ', valor)\n",
    "    \n",
    "del alunos['Carina']\n",
    "print('\\n Removendo Carina da turma: ', )\n",
    "for chave, valor in alunos.items():\n",
    "    print('Chave: ', chave, '\\tvalor: ', valor)"
   ]
  },
  {
   "cell_type": "code",
   "execution_count": null,
   "metadata": {},
   "outputs": [],
   "source": []
  }
 ],
 "metadata": {
  "kernelspec": {
   "display_name": "Python 3.10.5 64-bit",
   "language": "python",
   "name": "python3"
  },
  "language_info": {
   "codemirror_mode": {
    "name": "ipython",
    "version": 3
   },
   "file_extension": ".py",
   "mimetype": "text/x-python",
   "name": "python",
   "nbconvert_exporter": "python",
   "pygments_lexer": "ipython3",
   "version": "3.10.5"
  },
  "orig_nbformat": 4,
  "vscode": {
   "interpreter": {
    "hash": "d1d9262175893a3f9c089c524f593192d5b8538f6ec9ef6d8235214e3dc272a1"
   }
  }
 },
 "nbformat": 4,
 "nbformat_minor": 2
}
