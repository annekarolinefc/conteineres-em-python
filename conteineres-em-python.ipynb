{
 "cells": [
  {
   "cell_type": "markdown",
   "metadata": {},
   "source": [
    "## Contêineres em Python"
   ]
  },
  {
   "cell_type": "markdown",
   "metadata": {},
   "source": [
    "### Listas"
   ]
  },
  {
   "cell_type": "markdown",
   "metadata": {},
   "source": [
    "*    Sequências ordenadas, onde cada valor é identificado por um índice."
   ]
  },
  {
   "cell_type": "code",
   "execution_count": 2,
   "metadata": {},
   "outputs": [
    {
     "name": "stdout",
     "output_type": "stream",
     "text": [
      "Lista:  ['elemento adicionado']\n",
      "Lista:  []\n",
      "lista_slicing:  ['ola', 5.6]\n",
      "ola\n",
      "5.6\n",
      "1\n",
      "1\n",
      "True\n",
      "[]\n",
      "Indexação:  1\n",
      "Indexação:  []\n"
     ]
    },
    {
     "data": {
      "text/plain": [
       "[1, 4, 9]"
      ]
     },
     "execution_count": 2,
     "metadata": {},
     "output_type": "execute_result"
    }
   ],
   "source": [
    "lista = [] \n",
    "lista_homogenea = [1, 2, 3]\n",
    "lista_heterogenea = ['ola', 5.6 ,'1', 1, True, []]\n",
    "\n",
    "# São mutáveis\n",
    "# insere dados\n",
    "lista.append('elemento adicionado')\n",
    "print('Lista: ', lista)\n",
    "# remove dados\n",
    "lista.remove(lista[0])\n",
    "print('Lista: ', lista)\n",
    "# slicing de listas\n",
    "slicing = lista_heterogenea[:2]\n",
    "print('lista_slicing: ', slicing )\n",
    "#iteracao\n",
    "for elemento in lista_heterogenea:\n",
    "    print(elemento)\n",
    "#indexação\n",
    "print('Indexação: ', lista_heterogenea[2])\n",
    "print('Indexação: ', lista_heterogenea[-1])\n",
    "# list comprehension\n",
    "[x**2 for x in lista_homogenea]"
   ]
  },
  {
   "cell_type": "markdown",
   "metadata": {},
   "source": [
    "### Tuplas"
   ]
  },
  {
   "cell_type": "markdown",
   "metadata": {},
   "source": [
    "*   Imutável"
   ]
  },
  {
   "cell_type": "code",
   "execution_count": 17,
   "metadata": {},
   "outputs": [
    {
     "name": "stdout",
     "output_type": "stream",
     "text": [
      "Lista usando zip:  [(1, 4), (2, 5), (3, 6)] \n",
      "\n",
      "0 Primeiro\n",
      "1 Segundo\n",
      "2 Terceiro\n",
      "\n",
      "\n",
      "<class 'str'>\n",
      "<class 'tuple'>\n"
     ]
    }
   ],
   "source": [
    "tupla1 = (1, 2, 3)\n",
    "tupla2 = (4, 5, 6)\n",
    "tupla3 = (True, 'oi', 6.9) #sequencia de elementos de qualquer tipo\n",
    "\n",
    "exZip = list(zip(tupla1, tupla2))\n",
    "print(\"Lista usando zip: \", exZip, '\\n')\n",
    "\n",
    "#enumerate\n",
    "colocacao = ('Primeiro', 'Segundo', 'Terceiro')\n",
    "for i, colocacao in enumerate(colocacao):\n",
    "    print (i, colocacao)\n",
    "print('\\n')\n",
    "#Observação:\n",
    "print(type(('Exemplo de String')))\n",
    "print(type(('Exemplo de Tupla',)))\n"
   ]
  },
  {
   "cell_type": "code",
   "execution_count": null,
   "metadata": {},
   "outputs": [],
   "source": [
    "#"
   ]
  },
  {
   "cell_type": "markdown",
   "metadata": {},
   "source": [
    "### Conjuntos"
   ]
  },
  {
   "cell_type": "markdown",
   "metadata": {},
   "source": [
    "*   Implementam operadores de Teoria dos conjuntos\n",
    "*   Coleção de objetos únicos"
   ]
  },
  {
   "cell_type": "code",
   "execution_count": 12,
   "metadata": {},
   "outputs": [
    {
     "name": "stdout",
     "output_type": "stream",
     "text": [
      "Tupla 01:  {1, 2}\n",
      "Tupla 02:  {2, 3, 4, 5} \n",
      "\n",
      "Interseção:  {2}\n",
      "Diferença:  {1}\n",
      "União:  {1, 2, 3, 4, 5} \n",
      "\n"
     ]
    }
   ],
   "source": [
    "lista1=[1, 1, 1, 2]\n",
    "lista2=[2, 3, 4, 5, 5, 5, 5, 5]\n",
    "\n",
    "tupla1 = set(lista1)\n",
    "tupla2 = set(lista2)\n",
    "print('Tupla 01: ', tupla1)\n",
    "print('Tupla 02: ', tupla2, '\\n')\n",
    "\n",
    "print('Interseção: ', tupla1.intersection(tupla2))\n",
    "print('Diferença: ', tupla1.difference(tupla2))\n",
    "print('União: ', tupla1.union(tupla2), '\\n')"
   ]
  },
  {
   "cell_type": "markdown",
   "metadata": {},
   "source": [
    "### Dicionários"
   ]
  },
  {
   "cell_type": "markdown",
   "metadata": {},
   "source": [
    "*   Utilizam chaves no lugar de índices.\n",
    "*   Estrutura de dados indexadas indiretamente."
   ]
  },
  {
   "cell_type": "code",
   "execution_count": 15,
   "metadata": {},
   "outputs": [
    {
     "name": "stdout",
     "output_type": "stream",
     "text": [
      "Idade do Pedro: 21\n",
      "João é alunos? False \n",
      "\n",
      "Iteração: \n",
      "Chave:  Pedro \tvalor:  21\n",
      "Chave:  Maria \tvalor:  19\n",
      "Chave:  Carina \tvalor:  66\n",
      "\n",
      " Removendo Carina da turma: \n",
      "Chave:  Pedro \tvalor:  21\n",
      "Chave:  Maria \tvalor:  19\n"
     ]
    }
   ],
   "source": [
    "alunos = {'Pedro': 21, 'Maria': 19, 'Carina':66}\n",
    "\n",
    "print('Idade do Pedro:', alunos['Pedro'])\n",
    "print('João é alunos?', 'Joao' in alunos, '\\n')\n",
    "\n",
    "print('Iteração: ')\n",
    "for chave, valor in alunos.items():\n",
    "    print('Chave: ', chave, '\\tvalor: ', valor)\n",
    "    \n",
    "del alunos['Carina']\n",
    "print('\\n Removendo Carina da turma: ', )\n",
    "for chave, valor in alunos.items():\n",
    "    print('Chave: ', chave, '\\tvalor: ', valor)"
   ]
  },
  {
   "cell_type": "code",
   "execution_count": null,
   "metadata": {},
   "outputs": [],
   "source": []
  }
 ],
 "metadata": {
  "kernelspec": {
   "display_name": "Python 3.10.5 64-bit",
   "language": "python",
   "name": "python3"
  },
  "language_info": {
   "codemirror_mode": {
    "name": "ipython",
    "version": 3
   },
   "file_extension": ".py",
   "mimetype": "text/x-python",
   "name": "python",
   "nbconvert_exporter": "python",
   "pygments_lexer": "ipython3",
   "version": "3.10.5"
  },
  "orig_nbformat": 4,
  "vscode": {
   "interpreter": {
    "hash": "d1d9262175893a3f9c089c524f593192d5b8538f6ec9ef6d8235214e3dc272a1"
   }
  }
 },
 "nbformat": 4,
 "nbformat_minor": 2
}
